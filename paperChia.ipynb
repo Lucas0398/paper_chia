{
  "nbformat": 4,
  "nbformat_minor": 0,
  "metadata": {
    "colab": {
      "name": "Cópia de ArtigoChia.ipynb",
      "provenance": [],
      "collapsed_sections": []
    },
    "kernelspec": {
      "name": "python3",
      "display_name": "Python 3"
    }
  },
  "cells": [
    {
      "cell_type": "code",
      "metadata": {
        "id": "93vPJ3uycNNF"
      },
      "source": [
        "import pandas as pd\r\n",
        "import numpy as np\r\n",
        "import matplotlib.pyplot as plt\r\n",
        "from scipy import stats\r\n",
        "dataset = pd.read_excel('/content/drive/MyDrive/UFF/dados chia resumo.xlsx')\r\n",
        "tempo = np.arange(0,121,30)\r\n",
        "tempo_sim = np.arange(0,181,30)\r\n",
        "#dados = {'teor de agua':np.array([1, 2, 3, 4], 'massa especifica':[4,5,6,7])}\r\n",
        "#dados = pd.DataFrame(dados)\r\n",
        "#dados.head()"
      ],
      "execution_count": null,
      "outputs": []
    },
    {
      "cell_type": "code",
      "metadata": {
        "colab": {
          "base_uri": "https://localhost:8080/",
          "height": 343
        },
        "id": "K7858Knqg3FV",
        "outputId": "a47c5ebf-7b71-4e56-a82b-a033f90adfc6"
      },
      "source": [
        "dataset.head(10)"
      ],
      "execution_count": null,
      "outputs": [
        {
          "output_type": "execute_result",
          "data": {
            "text/html": [
              "<div>\n",
              "<style scoped>\n",
              "    .dataframe tbody tr th:only-of-type {\n",
              "        vertical-align: middle;\n",
              "    }\n",
              "\n",
              "    .dataframe tbody tr th {\n",
              "        vertical-align: top;\n",
              "    }\n",
              "\n",
              "    .dataframe thead th {\n",
              "        text-align: right;\n",
              "    }\n",
              "</style>\n",
              "<table border=\"1\" class=\"dataframe\">\n",
              "  <thead>\n",
              "    <tr style=\"text-align: right;\">\n",
              "      <th></th>\n",
              "      <th>teor de água (% b.u.)</th>\n",
              "      <th>massa específica aparente (kg m-3)</th>\n",
              "      <th>condutividade elétrica (mS cm-1 g-1)</th>\n",
              "      <th>extrato etéreo (mg g-1)</th>\n",
              "      <th>teor de proteína (mg kg-1)</th>\n",
              "    </tr>\n",
              "  </thead>\n",
              "  <tbody>\n",
              "    <tr>\n",
              "      <th>0</th>\n",
              "      <td>8.540000</td>\n",
              "      <td>687.35</td>\n",
              "      <td>171.33</td>\n",
              "      <td>224.50</td>\n",
              "      <td>33.69</td>\n",
              "    </tr>\n",
              "    <tr>\n",
              "      <th>1</th>\n",
              "      <td>8.204664</td>\n",
              "      <td>687.19</td>\n",
              "      <td>171.43</td>\n",
              "      <td>283.90</td>\n",
              "      <td>32.68</td>\n",
              "    </tr>\n",
              "    <tr>\n",
              "      <th>2</th>\n",
              "      <td>7.850532</td>\n",
              "      <td>688.08</td>\n",
              "      <td>124.00</td>\n",
              "      <td>313.77</td>\n",
              "      <td>29.69</td>\n",
              "    </tr>\n",
              "    <tr>\n",
              "      <th>3</th>\n",
              "      <td>7.850532</td>\n",
              "      <td>688.96</td>\n",
              "      <td>124.10</td>\n",
              "      <td>319.85</td>\n",
              "      <td>33.03</td>\n",
              "    </tr>\n",
              "    <tr>\n",
              "      <th>4</th>\n",
              "      <td>7.616865</td>\n",
              "      <td>689.85</td>\n",
              "      <td>111.34</td>\n",
              "      <td>324.55</td>\n",
              "      <td>31.54</td>\n",
              "    </tr>\n",
              "    <tr>\n",
              "      <th>5</th>\n",
              "      <td>8.540000</td>\n",
              "      <td>687.35</td>\n",
              "      <td>171.33</td>\n",
              "      <td>224.50</td>\n",
              "      <td>33.69</td>\n",
              "    </tr>\n",
              "    <tr>\n",
              "      <th>6</th>\n",
              "      <td>7.650400</td>\n",
              "      <td>689.21</td>\n",
              "      <td>171.44</td>\n",
              "      <td>268.50</td>\n",
              "      <td>31.51</td>\n",
              "    </tr>\n",
              "    <tr>\n",
              "      <th>7</th>\n",
              "      <td>7.392607</td>\n",
              "      <td>690.51</td>\n",
              "      <td>110.89</td>\n",
              "      <td>269.43</td>\n",
              "      <td>30.11</td>\n",
              "    </tr>\n",
              "    <tr>\n",
              "      <th>8</th>\n",
              "      <td>7.392607</td>\n",
              "      <td>691.76</td>\n",
              "      <td>113.06</td>\n",
              "      <td>293.07</td>\n",
              "      <td>32.57</td>\n",
              "    </tr>\n",
              "    <tr>\n",
              "      <th>9</th>\n",
              "      <td>7.095517</td>\n",
              "      <td>693.03</td>\n",
              "      <td>114.28</td>\n",
              "      <td>316.55</td>\n",
              "      <td>31.36</td>\n",
              "    </tr>\n",
              "  </tbody>\n",
              "</table>\n",
              "</div>"
            ],
            "text/plain": [
              "   teor de água (% b.u.)  ...  teor de proteína (mg kg-1)\n",
              "0               8.540000  ...                       33.69\n",
              "1               8.204664  ...                       32.68\n",
              "2               7.850532  ...                       29.69\n",
              "3               7.850532  ...                       33.03\n",
              "4               7.616865  ...                       31.54\n",
              "5               8.540000  ...                       33.69\n",
              "6               7.650400  ...                       31.51\n",
              "7               7.392607  ...                       30.11\n",
              "8               7.392607  ...                       32.57\n",
              "9               7.095517  ...                       31.36\n",
              "\n",
              "[10 rows x 5 columns]"
            ]
          },
          "metadata": {
            "tags": []
          },
          "execution_count": 3
        }
      ]
    },
    {
      "cell_type": "code",
      "metadata": {
        "id": "2BfYG-WL8bu3"
      },
      "source": [
        ""
      ],
      "execution_count": null,
      "outputs": []
    },
    {
      "cell_type": "markdown",
      "metadata": {
        "id": "mzfRGHT4hbsK"
      },
      "source": [
        "#Teor de água"
      ]
    },
    {
      "cell_type": "markdown",
      "metadata": {
        "id": "pOOrZouGSd-c"
      },
      "source": [
        "**Regressão Linear**"
      ]
    },
    {
      "cell_type": "code",
      "metadata": {
        "id": "Fz6s31NCk4w0"
      },
      "source": [
        "var = []\r\n",
        "var.append(np.array(dataset['teor de água (% b.u.)'][0:5]))\r\n",
        "var.append(np.array(dataset['teor de água (% b.u.)'][5:10]))\r\n",
        "slope_list=[]\r\n",
        "intercept_list = []\r\n",
        "r_value_list = []\r\n",
        "p_value_list = []\r\n",
        "std_err_list = []\r\n",
        "var_sim_list = []\r\n",
        "for i in range(0,2):\r\n",
        "  slope, intercept, r_value, p_value, std_err = stats.linregress(tempo,var[i])\r\n",
        "  slope_list.append(slope)\r\n",
        "  intercept_list.append(intercept)\r\n",
        "  r_value_list.append(round(r_value**(2),4))\r\n",
        "  p_value_list.append(p_value)\r\n",
        "  std_err_list.append(std_err)\r\n",
        "  var_sim = intercept_list[i] + slope_list[i]*np.array(tempo_sim)\r\n",
        "  var_sim_list.append(var_sim)\r\n",
        "#print('R² = %.4f' % (r_value**(2)))"
      ],
      "execution_count": null,
      "outputs": []
    },
    {
      "cell_type": "code",
      "metadata": {
        "colab": {
          "base_uri": "https://localhost:8080/",
          "height": 279
        },
        "id": "jmUN7z_Uieh2",
        "outputId": "1a0a3326-1295-4a47-a9ba-e03739fa0609"
      },
      "source": [
        "plt.scatter(tempo, var[0],marker='^',c='black')\r\n",
        "plt.scatter(tempo, var[1],marker='o',c='black')\r\n",
        "plt.plot(tempo_sim,var_sim_list[0],c='black', label='15°C')\r\n",
        "plt.plot(tempo_sim,var_sim_list[1],c='black',linestyle='dashed', label='30°C')\r\n",
        "plt.xlabel('Storage time (days)') ##\r\n",
        "plt.ylabel('teor de água (% b.u.)') ##\r\n",
        "plt.legend()\r\n",
        "plt.text(110, 8.2,'15°C: R² = '+str(r_value_list[0])) ##\r\n",
        "plt.text(100,8.1,'30°C: R² = '+str(r_value_list[1])) ##\r\n",
        "plt.show()"
      ],
      "execution_count": null,
      "outputs": [
        {
          "output_type": "display_data",
          "data": {
            "image/png": "[encoded data removed]",
            "text/plain": [
              "<Figure size 432x288 with 1 Axes>"
            ]
          },
          "metadata": {
            "tags": [],
            "needs_background": "light"
          }
        }
      ]
    },
    {
      "cell_type": "markdown",
      "metadata": {
        "id": "YvcLdEJaS9uq"
      },
      "source": [
        "**Regressão Polinomial**"
      ]
    },
    {
      "cell_type": "code",
      "metadata": {
        "colab": {
          "base_uri": "https://localhost:8080/"
        },
        "id": "Tq3claYPop0A",
        "outputId": "2db99e57-f42c-4ce7-925b-e36b3c35c36f"
      },
      "source": [
        "from sklearn.metrics import r2_score\r\n",
        "from scipy.interpolate import make_interp_spline, BSpline\r\n",
        "\r\n",
        "coeffs_list = []\r\n",
        "var_sim2_list = []\r\n",
        "var_sim_smooth = []\r\n",
        "r2_list = []\r\n",
        "for i in range(0,2):\r\n",
        "  coeffs_list.append(np.polyfit(tempo, var[i], 2))\r\n",
        "  var_sim2 = coeffs_list[i][0]*tempo_sim**(2) + coeffs_list[i][1]*tempo_sim + coeffs_list[i][2]\r\n",
        "  var_sim2_list.append(var_sim2)\r\n",
        "  xnew = np.linspace(tempo_sim.min(), tempo_sim.max(), 200)\r\n",
        "  spl = make_interp_spline(tempo_sim, var_sim2, k=3)\r\n",
        "  var_sim_smooth.append(spl(xnew))\r\n",
        "  r2_list.append(round(r2_score(var[i], var_sim2[0:len(var[i])]),4))\r\n",
        "r2_list\r\n",
        "#print('w = %.7fX² + %.4fX + %.4f' % (a15_x[0],a15_x[1],a15_x[2]))"
      ],
      "execution_count": null,
      "outputs": [
        {
          "output_type": "execute_result",
          "data": {
            "text/plain": [
              "[0.966, 0.9292]"
            ]
          },
          "metadata": {
            "tags": []
          },
          "execution_count": 13
        }
      ]
    },
    {
      "cell_type": "code",
      "metadata": {
        "colab": {
          "base_uri": "https://localhost:8080/",
          "height": 282
        },
        "id": "x8twdjisFPfW",
        "outputId": "78c56b34-d505-4479-ae04-8bf3ffff2ab7"
      },
      "source": [
        "plt.scatter(tempo, var[0], c='black', marker='^')\r\n",
        "plt.scatter(tempo, var[1], c='black', marker='o')\r\n",
        "plt.plot(xnew, var_sim_smooth[0], c='black',label='15°C')\r\n",
        "plt.plot(xnew, var_sim_smooth[1], c='black', linestyle='dashed',label='30°C')\r\n",
        "plt.xlabel('Storage time (days)') ##\r\n",
        "plt.ylabel('teor de água (% b.u.)') ##\r\n",
        "plt.legend()\r\n",
        "plt.text(110,8.2,'15°C: R² = '+str(r2_list[0])) ##\r\n",
        "plt.text(110,8.1,'30°C: R² = '+str(r2_list[1])) ##\r\n",
        "plt.show()"
      ],
      "execution_count": null,
      "outputs": [
        {
          "output_type": "display_data",
          "data": {
            "image/png": "[encoded data removed]",
            "text/plain": [
              "<Figure size 432x288 with 1 Axes>"
            ]
          },
          "metadata": {
            "tags": [],
            "needs_background": "light"
          }
        }
      ]
    },
    {
      "cell_type": "markdown",
      "metadata": {
        "id": "kGnekuIscRsK"
      },
      "source": [
        "Lucas Oliveira Mendes da Silva\\\r\n",
        "Universidade Federal de Alagoas\\\r\n",
        "Engenharia Química\\\r\n",
        "lucas.mendes@ctec.ufal.br"
      ]
    },
    {
      "cell_type": "code",
      "metadata": {
        "id": "8LWTd92sDJmT"
      },
      "source": [
        ""
      ],
      "execution_count": null,
      "outputs": []
    }
  ]
}